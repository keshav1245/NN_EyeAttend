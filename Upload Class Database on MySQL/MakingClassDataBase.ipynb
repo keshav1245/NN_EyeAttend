{
 "cells": [
  {
   "cell_type": "code",
   "execution_count": 1,
   "metadata": {},
   "outputs": [],
   "source": [
    "import os\n",
    "# os.environ['CUDA_VISIBLE_DEVICES'] = '-1'\n",
    "from PIL import Image\n",
    "from keras.models import load_model\n",
    "from keras_facenet import FaceNet\n",
    "import numpy as np\n",
    "from mtcnn import MTCNN\n",
    "import cv2\n",
    "import pickle\n",
    "from IPython.display import display\n",
    "import pandas as pd"
   ]
  },
  {
   "cell_type": "code",
   "execution_count": 2,
   "metadata": {},
   "outputs": [],
   "source": [
    "from tensorflow.keras.preprocessing.image import img_to_array,array_to_img\n",
    "embedder = FaceNet()\n",
    "import mysql.connector"
   ]
  },
  {
   "cell_type": "code",
   "execution_count": 3,
   "metadata": {},
   "outputs": [
    {
     "data": {
      "text/plain": [
       "[PhysicalDevice(name='/physical_device:CPU:0', device_type='CPU'),\n",
       " PhysicalDevice(name='/physical_device:XLA_CPU:0', device_type='XLA_CPU'),\n",
       " PhysicalDevice(name='/physical_device:XLA_GPU:0', device_type='XLA_GPU'),\n",
       " PhysicalDevice(name='/physical_device:GPU:0', device_type='GPU')]"
      ]
     },
     "execution_count": 3,
     "metadata": {},
     "output_type": "execute_result"
    }
   ],
   "source": [
    "import tensorflow as tf\n",
    "tf.config.list_physical_devices()"
   ]
  },
  {
   "cell_type": "code",
   "execution_count": 4,
   "metadata": {},
   "outputs": [
    {
     "data": {
      "text/html": [
       "<div>\n",
       "<style scoped>\n",
       "    .dataframe tbody tr th:only-of-type {\n",
       "        vertical-align: middle;\n",
       "    }\n",
       "\n",
       "    .dataframe tbody tr th {\n",
       "        vertical-align: top;\n",
       "    }\n",
       "\n",
       "    .dataframe thead th {\n",
       "        text-align: right;\n",
       "    }\n",
       "</style>\n",
       "<table border=\"1\" class=\"dataframe\">\n",
       "  <thead>\n",
       "    <tr style=\"text-align: right;\">\n",
       "      <th></th>\n",
       "      <th>First Name</th>\n",
       "      <th>Roll Number</th>\n",
       "      <th>Email Address [CCET]</th>\n",
       "      <th>Email [Secondary]</th>\n",
       "    </tr>\n",
       "  </thead>\n",
       "  <tbody>\n",
       "    <tr>\n",
       "      <th>0</th>\n",
       "      <td>Aarushi Sood</td>\n",
       "      <td>CO17301</td>\n",
       "      <td>example@domain.com</td>\n",
       "      <td>example@domain.com</td>\n",
       "    </tr>\n",
       "    <tr>\n",
       "      <th>1</th>\n",
       "      <td>Abhijeet Baruah</td>\n",
       "      <td>CO17302</td>\n",
       "      <td>example@domain.com</td>\n",
       "      <td>example@domain.com</td>\n",
       "    </tr>\n",
       "    <tr>\n",
       "      <th>2</th>\n",
       "      <td>Abhishek Kaushik</td>\n",
       "      <td>CO17304</td>\n",
       "      <td>example@domain.com</td>\n",
       "      <td>example@domain.com</td>\n",
       "    </tr>\n",
       "    <tr>\n",
       "      <th>3</th>\n",
       "      <td>Aboli</td>\n",
       "      <td>CO17305</td>\n",
       "      <td>example@domain.com</td>\n",
       "      <td>example@domain.com</td>\n",
       "    </tr>\n",
       "    <tr>\n",
       "      <th>4</th>\n",
       "      <td>Agampreet Kaur Walia</td>\n",
       "      <td>CO17307</td>\n",
       "      <td>example@domain.com</td>\n",
       "      <td>example@domain.com</td>\n",
       "    </tr>\n",
       "  </tbody>\n",
       "</table>\n",
       "</div>"
      ],
      "text/plain": [
       "            First Name  Roll Number Email Address [CCET]   Email [Secondary]\n",
       "0          Aarushi Sood     CO17301   example@domain.com  example@domain.com\n",
       "1       Abhijeet Baruah     CO17302   example@domain.com  example@domain.com\n",
       "2      Abhishek Kaushik     CO17304   example@domain.com  example@domain.com\n",
       "3                 Aboli     CO17305   example@domain.com  example@domain.com\n",
       "4  Agampreet Kaur Walia     CO17307   example@domain.com  example@domain.com"
      ]
     },
     "execution_count": 4,
     "metadata": {},
     "output_type": "execute_result"
    }
   ],
   "source": [
    "df = pd.read_excel(\"StudentListEmail_ccet_gmail.xlsx\").fillna(\"example@domain.com\")\n",
    "df.head(5)"
   ]
  },
  {
   "cell_type": "code",
   "execution_count": 5,
   "metadata": {},
   "outputs": [],
   "source": [
    "#this script is just to automate the insertion of multiple bnde    \n",
    "name = list(df['First Name '])\n",
    "email = list(df['Email [Secondary]'])\n",
    "ccet_email = list(df['Email Address [CCET]'])\n",
    "roll= list(df['Roll Number'])\n",
    "\n",
    "class_temp_path =\"/home/zukayu/Eye_Attend/Eye_Attend_Final/classroom_224\"\n",
    "\n",
    "temp_totalEmbeddings = []\n",
    "for faces in os.listdir(class_temp_path):\n",
    "    face = Image.open(class_temp_path+os.sep+faces)\n",
    "    face = img_to_array(face)\n",
    "    face = np.expand_dims(face, axis=0)\n",
    "    embedding = embedder.embeddings(face)\n",
    "    temp_totalEmbeddings.append(embedding)"
   ]
  },
  {
   "cell_type": "code",
   "execution_count": 6,
   "metadata": {},
   "outputs": [
    {
     "name": "stdout",
     "output_type": "stream",
     "text": [
      "(1, 512)\n",
      "45\n",
      "45\n"
     ]
    }
   ],
   "source": [
    "print(temp_totalEmbeddings[0].shape)\n",
    "print(len(temp_totalEmbeddings))\n",
    "# This means it is 45 x 512\n",
    "print(len(roll))"
   ]
  },
  {
   "cell_type": "code",
   "execution_count": 8,
   "metadata": {},
   "outputs": [
    {
     "name": "stdout",
     "output_type": "stream",
     "text": [
      "Successfully connected\n"
     ]
    }
   ],
   "source": [
    "conn = mysql.connector.connect(\n",
    "    host=\"localhost\",\n",
    "    user=\"root\",\n",
    "    password=\"\",\n",
    "    database=\"eyeattend\"\n",
    "    )\n",
    "if conn.is_connected():\n",
    "    print(\"Successfully connected\")\n",
    "    mycursor = conn.cursor()\n",
    "    #sql = \"INSERT INTO `embeddings`(`embedd`) VALUES (%s)\"\n",
    "    #\"INSERT INTO table VALUES (%s, %s, %s)\", (pickles)\n",
    "    create_tab = \"CREATE TABLE IF NOT EXISTS `batch_2018` ( `roll_no` varchar(10) NOT NULL, \\\n",
    "                 `name` varchar(50) NOT NULL,\\\n",
    "                 `branch` text NOT NULL,\\\n",
    "                 `batch` text NOT NULL,\\\n",
    "                 `email` varchar(50) NOT NULL,\\\n",
    "                 `ccet_email` varchar(50) NOT NULL,\\\n",
    "                 `photo_embedd` longblob NOT NULL,\\\n",
    "                 PRIMARY KEY (`roll_no`) ) \"\n",
    "    \n",
    "    mycursor.execute(create_tab)\n",
    "    conn.commit()\n",
    "    \n",
    "    for i in range(len(roll)):\n",
    "        r = str(roll[i])\n",
    "        naam = str(name[i])\n",
    "        ema = str(email[i])\n",
    "        ccet = str(ccet_email[i])\n",
    "        embed = temp_totalEmbeddings[i]\n",
    "        pickemb = embed.dumps()\n",
    "        mycursor.execute(\"INSERT INTO batch_2018 VALUES (%s,%s,%s,%s,%s,%s,%s)\",(r,naam,'cse','2018',ema,ccet,pickemb))\n",
    "        conn.commit()\n",
    "        # Closing the connection\n",
    "    conn.close()\n",
    "    \n",
    "else:\n",
    "    print('Error in connecting with database') "
   ]
  },
  {
   "cell_type": "code",
   "execution_count": null,
   "metadata": {},
   "outputs": [],
   "source": []
  },
  {
   "cell_type": "code",
   "execution_count": null,
   "metadata": {},
   "outputs": [],
   "source": []
  },
  {
   "cell_type": "code",
   "execution_count": null,
   "metadata": {},
   "outputs": [],
   "source": []
  }
 ],
 "metadata": {
  "kernelspec": {
   "display_name": "Python 3",
   "language": "python",
   "name": "python3"
  },
  "language_info": {
   "codemirror_mode": {
    "name": "ipython",
    "version": 3
   },
   "file_extension": ".py",
   "mimetype": "text/x-python",
   "name": "python",
   "nbconvert_exporter": "python",
   "pygments_lexer": "ipython3",
   "version": "3.8.3"
  }
 },
 "nbformat": 4,
 "nbformat_minor": 4
}
